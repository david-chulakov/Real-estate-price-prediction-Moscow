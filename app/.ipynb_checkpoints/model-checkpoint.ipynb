{
 "cells": [
  {
   "cell_type": "code",
   "execution_count": 1,
   "id": "179313e9-e28a-4ffa-8466-d39db9ff0549",
   "metadata": {},
   "outputs": [],
   "source": [
    "import pandas as pd\n",
    "import numpy as np\n",
    "from sklearn.pipeline import Pipeline, make_pipeline\n",
    "from sklearn.base import BaseEstimator, TransformerMixin\n",
    "from sklearn.linear_model import LinearRegression\n",
    "from sklearn.model_selection import train_test_split\n",
    "from sklearn.preprocessing import StandardScaler\n",
    "\n",
    "from catboost import CatBoostRegressor\n",
    "from sklearn.ensemble import GradientBoostingRegressor, RandomForestRegressor\n",
    "from sklearn.feature_selection import SelectFromModel\n",
    "from sklearn.metrics import mean_squared_error, mean_absolute_error, r2_score\n",
    "from scipy.stats import mannwhitneyu\n",
    "import itertools\n",
    "\n",
    "import matplotlib.pyplot as plt\n",
    "\n",
    "import seaborn as sns\n",
    "\n",
    "import warnings\n",
    "warnings.filterwarnings('ignore')"
   ]
  },
  {
   "cell_type": "code",
   "execution_count": 2,
   "id": "c4019cfd-bd2b-434e-9bda-ea3b372388a7",
   "metadata": {},
   "outputs": [
    {
     "data": {
      "text/html": [
       "<div>\n",
       "<style scoped>\n",
       "    .dataframe tbody tr th:only-of-type {\n",
       "        vertical-align: middle;\n",
       "    }\n",
       "\n",
       "    .dataframe tbody tr th {\n",
       "        vertical-align: top;\n",
       "    }\n",
       "\n",
       "    .dataframe thead th {\n",
       "        text-align: right;\n",
       "    }\n",
       "</style>\n",
       "<table border=\"1\" class=\"dataframe\">\n",
       "  <thead>\n",
       "    <tr style=\"text-align: right;\">\n",
       "      <th></th>\n",
       "      <th>okrug</th>\n",
       "      <th>metro</th>\n",
       "      <th>route_minutes</th>\n",
       "      <th>total_area</th>\n",
       "      <th>rooms</th>\n",
       "      <th>price</th>\n",
       "    </tr>\n",
       "  </thead>\n",
       "  <tbody>\n",
       "    <tr>\n",
       "      <th>0</th>\n",
       "      <td>СЗАО</td>\n",
       "      <td>Октябрьское Поле</td>\n",
       "      <td>8</td>\n",
       "      <td>51.0</td>\n",
       "      <td>2</td>\n",
       "      <td>16000000</td>\n",
       "    </tr>\n",
       "    <tr>\n",
       "      <th>1</th>\n",
       "      <td>ЮАО</td>\n",
       "      <td>ЗИЛ</td>\n",
       "      <td>20</td>\n",
       "      <td>40.7</td>\n",
       "      <td>1</td>\n",
       "      <td>15374104</td>\n",
       "    </tr>\n",
       "    <tr>\n",
       "      <th>2</th>\n",
       "      <td>ВАО</td>\n",
       "      <td>Выхино</td>\n",
       "      <td>12</td>\n",
       "      <td>63.0</td>\n",
       "      <td>3</td>\n",
       "      <td>13900000</td>\n",
       "    </tr>\n",
       "  </tbody>\n",
       "</table>\n",
       "</div>"
      ],
      "text/plain": [
       "  okrug             metro  route_minutes  total_area  rooms     price\n",
       "0  СЗАО  Октябрьское Поле              8        51.0      2  16000000\n",
       "1   ЮАО               ЗИЛ             20        40.7      1  15374104\n",
       "2   ВАО            Выхино             12        63.0      3  13900000"
      ]
     },
     "execution_count": 2,
     "metadata": {},
     "output_type": "execute_result"
    }
   ],
   "source": [
    "df = pd.read_csv(\"data/moscow_estate.csv\", names=['okrug', 'metro', 'route_minutes', 'total_area', 'rooms', 'price'], )\n",
    "df.head(3)"
   ]
  },
  {
   "cell_type": "code",
   "execution_count": 3,
   "id": "4fe32801-8fcd-4a6c-8b1f-195e4da00a9d",
   "metadata": {},
   "outputs": [],
   "source": [
    "num_cols = ['route_minutes', 'total_area', 'rooms']\n",
    "cat_cols = ['metro', 'okrug']\n",
    "target = 'price'"
   ]
  },
  {
   "cell_type": "code",
   "execution_count": 4,
   "id": "0bd970a0-527d-44e0-b560-420f95ee566c",
   "metadata": {},
   "outputs": [],
   "source": [
    "class FeatureSelector(BaseEstimator, TransformerMixin):\n",
    "    def __init__(self, column):\n",
    "        self.column = column\n",
    "\n",
    "    def fit(self, X, y=None):\n",
    "        return self\n",
    "\n",
    "    def transform(self, X, y=None):\n",
    "        return X[self.column]\n",
    "    \n",
    "    \n",
    "class NumberSelector(BaseEstimator, TransformerMixin):\n",
    "    \"\"\"\n",
    "    Transformer to select a single column from the data frame to perform additional transformations on\n",
    "    Use on numeric columns in the data\n",
    "    \"\"\"\n",
    "    def __init__(self, key):\n",
    "        self.key = key\n",
    "\n",
    "    def fit(self, X, y=None):\n",
    "        return self\n",
    "\n",
    "    def transform(self, X):\n",
    "        return X[[self.key]]\n",
    "    \n",
    "\n",
    "class OHEEncoder(BaseEstimator, TransformerMixin):\n",
    "    def __init__(self, key):\n",
    "        self.key = key\n",
    "        self.columns = []\n",
    "\n",
    "    def fit(self, X, y=None):\n",
    "        self.columns = [col for col in pd.get_dummies(X, prefix=self.key).columns]\n",
    "        return self\n",
    "\n",
    "    def transform(self, X):\n",
    "        X = pd.get_dummies(X, prefix=self.key)\n",
    "        test_columns = [col for col in X.columns]\n",
    "        for col_ in self.columns:\n",
    "            if col_ not in test_columns:\n",
    "                X[col_] = 0\n",
    "        return X[self.columns]\n",
    "    \n",
    "class NumericPower(BaseEstimator, TransformerMixin):\n",
    "    def __init__(self, key, p = 2):\n",
    "        self.key = key\n",
    "        self.columns = []\n",
    "        self.p = p+1\n",
    "\n",
    "    def fit(self, X, y=None):\n",
    "        B = [self.key + str(i) for i in range(1, self.p)]\n",
    "        self.columns = B + ['log']\n",
    "        return self\n",
    "\n",
    "    def transform(self, X):\n",
    "        Xp = X.values.reshape(-1,1)\n",
    "        for i in range(2, self.p):\n",
    "            Xp = np.hstack([Xp,(X.values.reshape(-1,1) ** i).astype(float)])\n",
    "\n",
    "        Xp = np.hstack([Xp, np.log(X.values.reshape(-1,1) + 1).astype(float)])    \n",
    "        B = pd.DataFrame(data = Xp, index = X.index,columns =[self.columns] )\n",
    "        return B[self.columns]     "
   ]
  },
  {
   "cell_type": "code",
   "execution_count": 5,
   "id": "aaaf339e-a777-45f9-94f1-3f1df0504ef4",
   "metadata": {},
   "outputs": [
    {
     "data": {
      "text/plain": [
       "((1389, 5), (596, 5))"
      ]
     },
     "execution_count": 5,
     "metadata": {},
     "output_type": "execute_result"
    }
   ],
   "source": [
    "X_train, X_test, y_train, y_test = train_test_split(df.drop(['price'], axis=1), df['price'], test_size=0.3, random_state=2)\n",
    "X_train.shape, X_test.shape"
   ]
  },
  {
   "cell_type": "code",
   "execution_count": 6,
   "id": "b949d48f-95df-4a57-a7c3-756f4941a897",
   "metadata": {},
   "outputs": [
    {
     "data": {
      "text/html": [
       "<div>\n",
       "<style scoped>\n",
       "    .dataframe tbody tr th:only-of-type {\n",
       "        vertical-align: middle;\n",
       "    }\n",
       "\n",
       "    .dataframe tbody tr th {\n",
       "        vertical-align: top;\n",
       "    }\n",
       "\n",
       "    .dataframe thead th {\n",
       "        text-align: right;\n",
       "    }\n",
       "</style>\n",
       "<table border=\"1\" class=\"dataframe\">\n",
       "  <thead>\n",
       "    <tr style=\"text-align: right;\">\n",
       "      <th></th>\n",
       "      <th>okrug</th>\n",
       "      <th>metro</th>\n",
       "      <th>route_minutes</th>\n",
       "      <th>total_area</th>\n",
       "      <th>rooms</th>\n",
       "    </tr>\n",
       "  </thead>\n",
       "  <tbody>\n",
       "    <tr>\n",
       "      <th>1111</th>\n",
       "      <td>ЮЗАО</td>\n",
       "      <td>Новые Черёмушки</td>\n",
       "      <td>14</td>\n",
       "      <td>50.1</td>\n",
       "      <td>2</td>\n",
       "    </tr>\n",
       "    <tr>\n",
       "      <th>188</th>\n",
       "      <td>ВАО</td>\n",
       "      <td>Первомайская</td>\n",
       "      <td>6</td>\n",
       "      <td>35.0</td>\n",
       "      <td>2</td>\n",
       "    </tr>\n",
       "    <tr>\n",
       "      <th>407</th>\n",
       "      <td>СЗАО</td>\n",
       "      <td>Терехово</td>\n",
       "      <td>17</td>\n",
       "      <td>66.6</td>\n",
       "      <td>2</td>\n",
       "    </tr>\n",
       "  </tbody>\n",
       "</table>\n",
       "</div>"
      ],
      "text/plain": [
       "     okrug            metro  route_minutes  total_area  rooms\n",
       "1111  ЮЗАО  Новые Черёмушки             14        50.1      2\n",
       "188    ВАО     Первомайская              6        35.0      2\n",
       "407   СЗАО         Терехово             17        66.6      2"
      ]
     },
     "execution_count": 6,
     "metadata": {},
     "output_type": "execute_result"
    }
   ],
   "source": [
    "X_train.head(3)"
   ]
  },
  {
   "cell_type": "code",
   "execution_count": 7,
   "id": "74a4cf6a-60df-4fe2-93f5-21d4b9ca7332",
   "metadata": {},
   "outputs": [],
   "source": [
    "final_transformers = list()\n",
    "\n",
    "for cat_col in cat_cols:\n",
    "    cat_transformer = Pipeline([\n",
    "                ('selector', FeatureSelector(column=cat_col)),\n",
    "                ('ohe', OHEEncoder(key=cat_col))\n",
    "            ])\n",
    "    final_transformers.append((cat_col, cat_transformer))\n",
    "\n",
    "\n",
    "for num_col in num_cols:\n",
    "    cont_transformer = Pipeline([\n",
    "                ('selector', NumberSelector(key=num_col)),\n",
    "                ('Scale', StandardScaler())\n",
    "            ])\n",
    "    final_transformers.append((num_col, cont_transformer))"
   ]
  },
  {
   "cell_type": "code",
   "execution_count": 99,
   "id": "26ca9b1d-ef8c-47b3-be0d-821d8431be9d",
   "metadata": {},
   "outputs": [],
   "source": [
    "from sklearn.pipeline import FeatureUnion\n",
    "\n",
    "feats = FeatureUnion(final_transformers)\n",
    "\n",
    "pipeline = Pipeline([\n",
    "    ('features', feats),\n",
    "    ('regressor', CatBoostRegressor(iterations=2000, learning_rate=1,  max_depth=10, random_state=42, silent=True)),\n",
    "])"
   ]
  },
  {
   "cell_type": "code",
   "execution_count": 100,
   "id": "59cf71eb-9314-4d10-9005-6f65b729765c",
   "metadata": {},
   "outputs": [
    {
     "data": {
      "text/plain": [
       "24300938137102.176"
      ]
     },
     "execution_count": 100,
     "metadata": {},
     "output_type": "execute_result"
    }
   ],
   "source": [
    "pipeline.fit(X_train, y_train)\n",
    "preds = pipeline.predict(X_test)\n",
    "mean_squared_error(y_test, preds)"
   ]
  },
  {
   "cell_type": "code",
   "execution_count": 101,
   "id": "d255f1f8-6f76-4c02-acd3-1ed6fcf11e73",
   "metadata": {},
   "outputs": [
    {
     "data": {
      "text/plain": [
       "2978502.3043330275"
      ]
     },
     "execution_count": 101,
     "metadata": {},
     "output_type": "execute_result"
    }
   ],
   "source": [
    "mean_absolute_error(y_test, preds)"
   ]
  },
  {
   "cell_type": "code",
   "execution_count": 102,
   "id": "6f540132-364f-436b-ab21-c143d7cc50b0",
   "metadata": {},
   "outputs": [
    {
     "data": {
      "text/plain": [
       "0.7610769396666266"
      ]
     },
     "execution_count": 102,
     "metadata": {},
     "output_type": "execute_result"
    }
   ],
   "source": [
    "r2_score(y_test, preds)"
   ]
  },
  {
   "cell_type": "code",
   "execution_count": null,
   "id": "c4763e1b-e56e-482c-8858-5edfe3320588",
   "metadata": {},
   "outputs": [],
   "source": []
  }
 ],
 "metadata": {
  "kernelspec": {
   "display_name": "Python 3 (ipykernel)",
   "language": "python",
   "name": "python3"
  },
  "language_info": {
   "codemirror_mode": {
    "name": "ipython",
    "version": 3
   },
   "file_extension": ".py",
   "mimetype": "text/x-python",
   "name": "python",
   "nbconvert_exporter": "python",
   "pygments_lexer": "ipython3",
   "version": "3.10.4"
  }
 },
 "nbformat": 4,
 "nbformat_minor": 5
}
