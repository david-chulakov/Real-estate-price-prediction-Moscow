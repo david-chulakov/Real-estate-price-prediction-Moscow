{
 "cells": [
  {
   "cell_type": "code",
   "execution_count": 1,
   "id": "179313e9-e28a-4ffa-8466-d39db9ff0549",
   "metadata": {},
   "outputs": [],
   "source": [
    "import pandas as pd\n",
    "import numpy as np\n",
    "from sklearn.pipeline import Pipeline, make_pipeline\n",
    "from sklearn.base import BaseEstimator, TransformerMixin\n",
    "from sklearn.linear_model import LinearRegression\n",
    "from sklearn.model_selection import train_test_split\n",
    "from sklearn.preprocessing import StandardScaler\n",
    "\n",
    "from sklearn.ensemble import GradientBoostingRegressor\n",
    "from sklearn.feature_selection import SelectFromModel\n",
    "from sklearn.metrics import mean_squared_error, mean_absolute_error, r2_score\n",
    "from scipy.stats import mannwhitneyu\n",
    "import itertools\n",
    "\n",
    "import matplotlib.pyplot as plt\n",
    "\n",
    "import seaborn as sns\n",
    "\n",
    "import warnings\n",
    "warnings.filterwarnings('ignore')"
   ]
  },
  {
   "cell_type": "code",
   "execution_count": 2,
   "id": "c4019cfd-bd2b-434e-9bda-ea3b372388a7",
   "metadata": {},
   "outputs": [
    {
     "data": {
      "text/html": [
       "<div>\n",
       "<style scoped>\n",
       "    .dataframe tbody tr th:only-of-type {\n",
       "        vertical-align: middle;\n",
       "    }\n",
       "\n",
       "    .dataframe tbody tr th {\n",
       "        vertical-align: top;\n",
       "    }\n",
       "\n",
       "    .dataframe thead th {\n",
       "        text-align: right;\n",
       "    }\n",
       "</style>\n",
       "<table border=\"1\" class=\"dataframe\">\n",
       "  <thead>\n",
       "    <tr style=\"text-align: right;\">\n",
       "      <th></th>\n",
       "      <th>metro</th>\n",
       "      <th>price</th>\n",
       "      <th>way</th>\n",
       "      <th>views</th>\n",
       "      <th>provider</th>\n",
       "      <th>fee_percent</th>\n",
       "      <th>storey</th>\n",
       "      <th>minutes</th>\n",
       "      <th>storeys</th>\n",
       "      <th>living_area</th>\n",
       "      <th>kitchen_area</th>\n",
       "      <th>total_area</th>\n",
       "    </tr>\n",
       "  </thead>\n",
       "  <tbody>\n",
       "    <tr>\n",
       "      <th>0</th>\n",
       "      <td>Planernaia</td>\n",
       "      <td>45000</td>\n",
       "      <td>walk</td>\n",
       "      <td>513</td>\n",
       "      <td>realtor</td>\n",
       "      <td>50</td>\n",
       "      <td>7</td>\n",
       "      <td>10</td>\n",
       "      <td>12</td>\n",
       "      <td>19</td>\n",
       "      <td>8</td>\n",
       "      <td>38</td>\n",
       "    </tr>\n",
       "    <tr>\n",
       "      <th>1</th>\n",
       "      <td>VDNKh</td>\n",
       "      <td>50000</td>\n",
       "      <td>walk</td>\n",
       "      <td>389</td>\n",
       "      <td>realtor</td>\n",
       "      <td>50</td>\n",
       "      <td>16</td>\n",
       "      <td>10</td>\n",
       "      <td>16</td>\n",
       "      <td>18</td>\n",
       "      <td>8</td>\n",
       "      <td>41</td>\n",
       "    </tr>\n",
       "    <tr>\n",
       "      <th>2</th>\n",
       "      <td>Alekseevskaia</td>\n",
       "      <td>50000</td>\n",
       "      <td>walk</td>\n",
       "      <td>483</td>\n",
       "      <td>realtor</td>\n",
       "      <td>50</td>\n",
       "      <td>5</td>\n",
       "      <td>3</td>\n",
       "      <td>12</td>\n",
       "      <td>19</td>\n",
       "      <td>5</td>\n",
       "      <td>33</td>\n",
       "    </tr>\n",
       "  </tbody>\n",
       "</table>\n",
       "</div>"
      ],
      "text/plain": [
       "             metro  price   way  views                     provider  \\\n",
       "0      Planernaia   45000  walk    513  realtor                       \n",
       "1           VDNKh   50000  walk    389  realtor                       \n",
       "2   Alekseevskaia   50000  walk    483  realtor                       \n",
       "\n",
       "   fee_percent  storey  minutes  storeys  living_area  kitchen_area  \\\n",
       "0           50       7       10       12           19             8   \n",
       "1           50      16       10       16           18             8   \n",
       "2           50       5        3       12           19             5   \n",
       "\n",
       "   total_area  \n",
       "0          38  \n",
       "1          41  \n",
       "2          33  "
      ]
     },
     "execution_count": 2,
     "metadata": {},
     "output_type": "execute_result"
    }
   ],
   "source": [
    "df = pd.read_csv(\"data/move.csv\", index_col=0)\n",
    "df.head(3)"
   ]
  },
  {
   "cell_type": "code",
   "execution_count": 5,
   "id": "f309cb97-f66d-4d9c-bac2-926705f654f8",
   "metadata": {},
   "outputs": [
    {
     "data": {
      "text/plain": [
       "['transport', 'walk']"
      ]
     },
     "execution_count": 5,
     "metadata": {},
     "output_type": "execute_result"
    }
   ],
   "source": [
    "sorted(df['way'].unique())"
   ]
  },
  {
   "cell_type": "code",
   "execution_count": 59,
   "id": "4fe32801-8fcd-4a6c-8b1f-195e4da00a9d",
   "metadata": {},
   "outputs": [],
   "source": [
    "num_cols = ['minutes', 'living_area', 'kitchen_area', 'total_area']\n",
    "cat_cols = ['metro', 'way']\n",
    "target = 'price'"
   ]
  },
  {
   "cell_type": "code",
   "execution_count": 60,
   "id": "0bd970a0-527d-44e0-b560-420f95ee566c",
   "metadata": {},
   "outputs": [],
   "source": [
    "class FeatureSelector(BaseEstimator, TransformerMixin):\n",
    "    def __init__(self, column):\n",
    "        self.column = column\n",
    "\n",
    "    def fit(self, X, y=None):\n",
    "        return self\n",
    "\n",
    "    def transform(self, X, y=None):\n",
    "        return X[self.column]\n",
    "    \n",
    "    \n",
    "class NumberSelector(BaseEstimator, TransformerMixin):\n",
    "    \"\"\"\n",
    "    Transformer to select a single column from the data frame to perform additional transformations on\n",
    "    Use on numeric columns in the data\n",
    "    \"\"\"\n",
    "    def __init__(self, key):\n",
    "        self.key = key\n",
    "\n",
    "    def fit(self, X, y=None):\n",
    "        return self\n",
    "\n",
    "    def transform(self, X):\n",
    "        return X[[self.key]]\n",
    "    \n",
    "\n",
    "class OHEEncoder(BaseEstimator, TransformerMixin):\n",
    "    def __init__(self, key):\n",
    "        self.key = key\n",
    "        self.columns = []\n",
    "\n",
    "    def fit(self, X, y=None):\n",
    "        self.columns = [col for col in pd.get_dummies(X, prefix=self.key).columns]\n",
    "        return self\n",
    "\n",
    "    def transform(self, X):\n",
    "        X = pd.get_dummies(X, prefix=self.key)\n",
    "        test_columns = [col for col in X.columns]\n",
    "        for col_ in self.columns:\n",
    "            if col_ not in test_columns:\n",
    "                X[col_] = 0\n",
    "        return X[self.columns]\n",
    "    \n",
    "class NumericPower(BaseEstimator, TransformerMixin):\n",
    "    def __init__(self, key, p = 2):\n",
    "        self.key = key\n",
    "        self.columns = []\n",
    "        self.p = p+1\n",
    "\n",
    "    def fit(self, X, y=None):\n",
    "        B = [self.key + str(i) for i in range(1, self.p)]\n",
    "        self.columns = B + ['log']\n",
    "        return self\n",
    "\n",
    "    def transform(self, X):\n",
    "        Xp = X.values.reshape(-1,1)\n",
    "        for i in range(2, self.p):\n",
    "            Xp = np.hstack([Xp,(X.values.reshape(-1,1) ** i).astype(float)])\n",
    "\n",
    "        Xp = np.hstack([Xp, np.log(X.values.reshape(-1,1) + 1).astype(float)])    \n",
    "        B = pd.DataFrame(data = Xp, index = X.index,columns =[self.columns] )\n",
    "        return B[self.columns]     "
   ]
  },
  {
   "cell_type": "code",
   "execution_count": 61,
   "id": "aaaf339e-a777-45f9-94f1-3f1df0504ef4",
   "metadata": {},
   "outputs": [
    {
     "data": {
      "text/plain": [
       "((1012, 6), (434, 6))"
      ]
     },
     "execution_count": 61,
     "metadata": {},
     "output_type": "execute_result"
    }
   ],
   "source": [
    "X_train, X_test, y_train, y_test = train_test_split(df.drop(['price', 'views', 'provider', 'fee_percent', 'storey', 'storeys'], axis=1), df['price'], test_size=0.3, random_state=2)\n",
    "X_train.shape, X_test.shape"
   ]
  },
  {
   "cell_type": "code",
   "execution_count": 62,
   "id": "b949d48f-95df-4a57-a7c3-756f4941a897",
   "metadata": {},
   "outputs": [
    {
     "name": "stdout",
     "output_type": "stream",
     "text": [
      "<class 'pandas.core.frame.DataFrame'>\n",
      "Int64Index: 1012 entries, 336 to 1192\n",
      "Data columns (total 6 columns):\n",
      " #   Column        Non-Null Count  Dtype \n",
      "---  ------        --------------  ----- \n",
      " 0   metro         1012 non-null   object\n",
      " 1   way           1012 non-null   object\n",
      " 2   minutes       1012 non-null   int64 \n",
      " 3   living_area   1012 non-null   int64 \n",
      " 4   kitchen_area  1012 non-null   int64 \n",
      " 5   total_area    1012 non-null   int64 \n",
      "dtypes: int64(4), object(2)\n",
      "memory usage: 55.3+ KB\n"
     ]
    }
   ],
   "source": [
    "X_train.info()"
   ]
  },
  {
   "cell_type": "code",
   "execution_count": 63,
   "id": "74a4cf6a-60df-4fe2-93f5-21d4b9ca7332",
   "metadata": {},
   "outputs": [],
   "source": [
    "final_transformers = list()\n",
    "\n",
    "for cat_col in cat_cols:\n",
    "    cat_transformer = Pipeline([\n",
    "                ('selector', FeatureSelector(column=cat_col)),\n",
    "                ('ohe', OHEEncoder(key=cat_col))\n",
    "            ])\n",
    "    final_transformers.append((cat_col, cat_transformer))\n",
    "\n",
    "\n",
    "for num_col in num_cols:\n",
    "    cont_transformer = Pipeline([\n",
    "                ('selector', NumberSelector(key=num_col)),\n",
    "                ('pow_2', NumericPower(key=num_col, p=3)),\n",
    "                ('Scale', StandardScaler())\n",
    "            ])\n",
    "    final_transformers.append((num_col, cont_transformer))"
   ]
  },
  {
   "cell_type": "code",
   "execution_count": 68,
   "id": "26ca9b1d-ef8c-47b3-be0d-821d8431be9d",
   "metadata": {},
   "outputs": [],
   "source": [
    "from sklearn.pipeline import FeatureUnion\n",
    "feats = FeatureUnion(final_transformers)\n",
    "\n",
    "pipeline = Pipeline([\n",
    "    ('features', feats),\n",
    "    ('classifier', GradientBoostingRegressor(n_estimators=500, max_depth=4, random_state=42)),\n",
    "])"
   ]
  },
  {
   "cell_type": "code",
   "execution_count": 69,
   "id": "59cf71eb-9314-4d10-9005-6f65b729765c",
   "metadata": {},
   "outputs": [
    {
     "data": {
      "text/plain": [
       "64209555.671964176"
      ]
     },
     "execution_count": 69,
     "metadata": {},
     "output_type": "execute_result"
    }
   ],
   "source": [
    "pipeline.fit(X_train, y_train)\n",
    "preds = pipeline.predict(X_test)\n",
    "mean_squared_error(y_test, preds)"
   ]
  },
  {
   "cell_type": "code",
   "execution_count": 70,
   "id": "d255f1f8-6f76-4c02-acd3-1ed6fcf11e73",
   "metadata": {},
   "outputs": [
    {
     "data": {
      "text/plain": [
       "2216.83811264012"
      ]
     },
     "execution_count": 70,
     "metadata": {},
     "output_type": "execute_result"
    }
   ],
   "source": [
    "mean_absolute_error(y_test, preds)"
   ]
  },
  {
   "cell_type": "code",
   "execution_count": 71,
   "id": "6f540132-364f-436b-ab21-c143d7cc50b0",
   "metadata": {},
   "outputs": [
    {
     "data": {
      "text/plain": [
       "0.9120667159802802"
      ]
     },
     "execution_count": 71,
     "metadata": {},
     "output_type": "execute_result"
    }
   ],
   "source": [
    "r2_score(y_test, preds)"
   ]
  },
  {
   "cell_type": "code",
   "execution_count": 1,
   "id": "c53d2255-8a08-4fc3-b11c-e16019e172eb",
   "metadata": {},
   "outputs": [],
   "source": [
    "import pickle"
   ]
  },
  {
   "cell_type": "code",
   "execution_count": 3,
   "id": "3004c5fd-1beb-4a04-9ac0-177ae60a1948",
   "metadata": {},
   "outputs": [
    {
     "ename": "AttributeError",
     "evalue": "Can't get attribute 'FeatureSelector' on <module '__main__'>",
     "output_type": "error",
     "traceback": [
      "\u001b[1;31m---------------------------------------------------------------------------\u001b[0m",
      "\u001b[1;31mAttributeError\u001b[0m                            Traceback (most recent call last)",
      "\u001b[1;32m<ipython-input-3-1423779360f5>\u001b[0m in \u001b[0;36m<module>\u001b[1;34m\u001b[0m\n\u001b[1;32m----> 1\u001b[1;33m \u001b[0mpickle\u001b[0m\u001b[1;33m.\u001b[0m\u001b[0mload\u001b[0m\u001b[1;33m(\u001b[0m\u001b[0mopen\u001b[0m\u001b[1;33m(\u001b[0m\u001b[1;34m'model/model.pkl'\u001b[0m\u001b[1;33m,\u001b[0m \u001b[1;34m'rb'\u001b[0m\u001b[1;33m)\u001b[0m\u001b[1;33m)\u001b[0m\u001b[1;33m\u001b[0m\u001b[1;33m\u001b[0m\u001b[0m\n\u001b[0m",
      "\u001b[1;31mAttributeError\u001b[0m: Can't get attribute 'FeatureSelector' on <module '__main__'>"
     ]
    }
   ],
   "source": [
    "pickle.load(open('model/model.pkl', 'rb'))"
   ]
  },
  {
   "cell_type": "code",
   "execution_count": null,
   "id": "09f9ecfd-1de5-4a92-bc08-4563db49b7ff",
   "metadata": {},
   "outputs": [],
   "source": []
  }
 ],
 "metadata": {
  "kernelspec": {
   "display_name": "Python 3",
   "language": "python",
   "name": "python3"
  },
  "language_info": {
   "codemirror_mode": {
    "name": "ipython",
    "version": 3
   },
   "file_extension": ".py",
   "mimetype": "text/x-python",
   "name": "python",
   "nbconvert_exporter": "python",
   "pygments_lexer": "ipython3",
   "version": "3.8.8"
  }
 },
 "nbformat": 4,
 "nbformat_minor": 5
}
